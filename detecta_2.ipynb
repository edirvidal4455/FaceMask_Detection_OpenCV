{
 "cells": [
  {
   "cell_type": "code",
   "execution_count": 1,
   "id": "0e1496d6-ac47-41ef-b93d-fc950d412dc5",
   "metadata": {},
   "outputs": [],
   "source": [
    "import cv2\n",
    "import os\n",
    "import mediapipe as mp"
   ]
  },
  {
   "cell_type": "code",
   "execution_count": 9,
   "id": "538c99e1-418e-4bb5-b227-e0d48b9c4ca0",
   "metadata": {},
   "outputs": [],
   "source": [
    "mp_face_detection = mp.solutions.face_detection #detector de rostros\n",
    "LABELS = [\"Con_mascarilla\",\"Nariz_fuera\",\"Sin_mascarilla\"] #etiquetas\n",
    "\n",
    "face_mask = cv2.face.LBPHFaceRecognizer_create()\n",
    "face_mask.read(\"face_mask_model_2.xml\") #lee el modelo que entrenamos en \"treno.ipynb\"\n",
    "\n",
    "cap = cv2.VideoCapture(0)\n",
    "with mp_face_detection.FaceDetection(\n",
    "     min_detection_confidence=0.5) as face_detection:\n",
    "     while True:\n",
    "          ret, frame = cap.read()\n",
    "          if ret == False: break\n",
    "          frame = cv2.flip(frame, 1)\n",
    "          height, width, _ = frame.shape\n",
    "          frame_rgb = cv2.cvtColor(frame, cv2.COLOR_BGR2RGB)\n",
    "          results = face_detection.process(frame_rgb)\n",
    "          if results.detections is not None:\n",
    "               for detection in results.detections:\n",
    "                    xmin = int(detection.location_data.relative_bounding_box.xmin * width)\n",
    "                    ymin = int(detection.location_data.relative_bounding_box.ymin * height)\n",
    "                    w = int(detection.location_data.relative_bounding_box.width * width)\n",
    "                    h = int(detection.location_data.relative_bounding_box.height * height)\n",
    "                    if xmin < 0 or ymin < 0 or h < 0 or w < 0:\n",
    "                         continue\n",
    "                    #cv2.rectangle(frame, (xmin, ymin), (xmin + w, ymin + h), (0, 255, 0), 5)\n",
    "                    face_image = frame[ymin : ymin + h, xmin : xmin + w]\n",
    "                    face_image = cv2.cvtColor(face_image, cv2.COLOR_BGR2GRAY)\n",
    "                    face_image = cv2.resize(face_image, (72, 72), interpolation=cv2.INTER_CUBIC)\n",
    "                    \n",
    "                    result = face_mask.predict(face_image)\n",
    "                    cv2.putText(frame, \"{}\".format(result), (xmin, ymin - 5), 1, 1.3, (210, 124, 176), 1, cv2.LINE_AA)\n",
    "                    if result[1] < 150:\n",
    "                        if LABELS[result[0]] == \"Con_mascarilla\":\n",
    "                            color = (0, 255, 0)\n",
    "                        if LABELS[result[0]] == \"Sin_mascarilla\":\n",
    "                            color = (0, 0, 255)\n",
    "                        if LABELS[result[0]] == \"Nariz_fuera\":\n",
    "                            color = (0, 128, 255)\n",
    "                        cv2.putText(frame, \"{}\".format(LABELS[result[0]]), (xmin, ymin - 15), 2, 1, color, 1, cv2.LINE_AA)\n",
    "                        cv2.rectangle(frame, (xmin, ymin), (xmin + w, ymin + h), color, 2)\n",
    "          cv2.imshow(\"Frame\", frame)\n",
    "          k = cv2.waitKey(1)\n",
    "          if k == 27:\n",
    "               break\n",
    "cap.release()\n",
    "cv2.destroyAllWindows()"
   ]
  },
  {
   "cell_type": "code",
   "execution_count": 8,
   "id": "0d394eac-dab8-479b-9009-ea1a911f3bc9",
   "metadata": {},
   "outputs": [
    {
     "data": {
      "text/plain": [
       "['Con_mascarilla', 'Nariz_fuera', 'Sin_mascarilla']"
      ]
     },
     "execution_count": 8,
     "metadata": {},
     "output_type": "execute_result"
    }
   ],
   "source": [
    "LABELS"
   ]
  },
  {
   "cell_type": "code",
   "execution_count": null,
   "id": "3b07673e-671a-4012-8377-8c717fc43ed3",
   "metadata": {},
   "outputs": [],
   "source": []
  }
 ],
 "metadata": {
  "kernelspec": {
   "display_name": "Python 3",
   "language": "python",
   "name": "python3"
  },
  "language_info": {
   "codemirror_mode": {
    "name": "ipython",
    "version": 3
   },
   "file_extension": ".py",
   "mimetype": "text/x-python",
   "name": "python",
   "nbconvert_exporter": "python",
   "pygments_lexer": "ipython3",
   "version": "3.8.8"
  }
 },
 "nbformat": 4,
 "nbformat_minor": 5
}
